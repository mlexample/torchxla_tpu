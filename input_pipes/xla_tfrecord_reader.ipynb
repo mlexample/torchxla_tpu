{
 "cells": [
  {
   "cell_type": "code",
   "execution_count": null,
   "id": "bfaa01b7-01dc-45c6-bd0b-ceb7dfdf782b",
   "metadata": {},
   "outputs": [],
   "source": [
    "from PIL import Image\n",
    "import numpy as np\n",
    "import hashlib\n",
    "import os\n",
    "import sys\n",
    "import torch\n",
    "import torch_xla.utils.tf_record_reader as tfrr\n",
    "\n",
    "import tqdm as notebook_tqdm"
   ]
  },
  {
   "cell_type": "code",
   "execution_count": null,
   "id": "faf7ad96-d239-4649-8e9b-b226b6e26524",
   "metadata": {},
   "outputs": [],
   "source": [
    "train_files = [\n",
    "    'gs://imagenet-jt/train/train-00000-of-01024',\n",
    "    # 'gs://imagenet-jt/train/train-00001-of-01024',\n",
    "    # 'gs://imagenet-jt/train/train-00002-of-01024',\n",
    "    # 'gs://imagenet-jt/train/train-00003-of-01024',\n",
    "    # 'gs://imagenet-jt/train/train-00004-of-01024',\n",
    "]"
   ]
  },
  {
   "cell_type": "code",
   "execution_count": null,
   "id": "b8968723-73fe-4002-943f-6a82a7c0c3e2",
   "metadata": {},
   "outputs": [],
   "source": [
    "def decode(ex):\n",
    "    \n",
    "    w = ex['image/width'].item()\n",
    "    h = ex['image/height'].item()\n",
    "    imgb = ex['image/encoded'].numpy().tobytes()\n",
    "\n",
    "    # m = hashlib.md5()\n",
    "    # m.update(imgb)\n",
    "    # print('HASH = {}'.format(m.hexdigest()))\n",
    "\n",
    "    image = Image.frombytes('RGB', (w, h), imgb, 'jpeg', 'RGB', None)\n",
    "    \n",
    "    npa = np.asarray(image)\n",
    "    \n",
    "    return torch.from_numpy(npa), image"
   ]
  },
  {
   "cell_type": "code",
   "execution_count": null,
   "id": "1efc71d7-ab14-470c-aa78-c6796676fd50",
   "metadata": {},
   "outputs": [],
   "source": [
    "def readem(path):\n",
    "    transforms = {\n",
    "      'image/class/label': 'STR',\n",
    "      # 'image/class/synset': 'STR',\n",
    "      # 'image/format': 'STR',\n",
    "      # 'image/class/text': 'STR',\n",
    "      # 'image/colorspace': 'STR',\n",
    "    }\n",
    "    r = tfrr.TfRecordReader(path)\n",
    "    count = 0\n",
    "    while True:\n",
    "        ex = r.read_example()\n",
    "        if not ex:\n",
    "            break\n",
    "        # print('\\n')\n",
    "        # for lbl, data in ex.items():\n",
    "        #     print('{}\\t{}'.format(lbl, data))\n",
    "        img_tensor, image = decode(ex)\n",
    "        count += 1\n",
    "    print('\\n\\nDecoded {} samples'.format(count))\n",
    "    return img_tensor, image"
   ]
  },
  {
   "cell_type": "code",
   "execution_count": null,
   "id": "c03d5f57-61b3-467b-b23c-4d9e5207ff9a",
   "metadata": {},
   "outputs": [],
   "source": [
    "readem('gs://imagenet-jt/train/train-00000-of-01024')"
   ]
  },
  {
   "cell_type": "code",
   "execution_count": null,
   "id": "34a56af1-fa32-4ca2-98a8-628b4a6e657e",
   "metadata": {},
   "outputs": [],
   "source": []
  }
 ],
 "metadata": {
  "environment": {
   "kernel": "python3",
   "name": "common-cpu.m96",
   "type": "gcloud",
   "uri": "gcr.io/deeplearning-platform-release/base-cpu:m96"
  },
  "kernelspec": {
   "display_name": "Python 3",
   "language": "python",
   "name": "python3"
  },
  "language_info": {
   "codemirror_mode": {
    "name": "ipython",
    "version": 3
   },
   "file_extension": ".py",
   "mimetype": "text/x-python",
   "name": "python",
   "nbconvert_exporter": "python",
   "pygments_lexer": "ipython3",
   "version": "3.7.12"
  }
 },
 "nbformat": 4,
 "nbformat_minor": 5
}
